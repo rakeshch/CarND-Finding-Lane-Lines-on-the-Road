{
 "cells": [
  {
   "cell_type": "markdown",
   "metadata": {},
   "source": [
    "# Self-Driving Car Engineer Nanodegree\n",
    "\n",
    "\n",
    "## Project: **Finding Lane Lines on the Road** \n"    
   ]
  },  
  {
   "cell_type": "markdown",
   "metadata": {},
   "source": [
    "**Run the cell below to import some packages.  
   ]
  },
  {
   "cell_type": "markdown",
   "metadata": {},
   "source": [
    "## Import Packages"
   ]
  },
  {
   "cell_type": "code",
   "execution_count": 1,
   "metadata": {},
   "outputs": [],
   "source": [
    "#importing some useful packages\n",
    "import matplotlib.pyplot as plt\n",
    "import matplotlib.image as mpimg\n",
    "import numpy as np\n",
    "import cv2\n",
    "%matplotlib inline"
   ]
  },
  {
   "cell_type": "markdown",
   "metadata": {},
   "source": [
    "## Read in an Image"
   ]
  },
  {
   "cell_type": "code",
   "execution_count": 7,
   "metadata": {},
   "outputs": [],
   "source": [
    "#solidWhiteCurve.jpg\n",
    "#solidWhiteRight.jpg\n",
    "#solidYellowCurve.jpg\n",
    "#solidYellowCurve2.jpg\n",
    "#solidYellowLeft.jpg\n",
    "#whiteCarLaneSwitch.jpg\n",
    "#image =  mpimg.imread('test_images/solidWhiteRight.jpg')\n",
    "#final_img = readlines(image)\n",
    "def read_lane_lines(image):\n",
    "    #image = mpimg.imread(imagename)\n",
    "    gray = grayscale(image)\n",
    "    #plt.imshow(gray, cmap='gray') \n",
    "\n",
    "    #smooth the image using Gaussian blurring\n",
    "    #define kernel_size, odd numbers recommended\n",
    "    kernel_size = 7\n",
    "    blur_gray = gaussian_blur(gray, kernel_size)\n",
    "    #plt.imshow(blur_gray)\n",
    "\n",
    "    #define low_threshold and high_threshold parameters for canny edge detection\n",
    "    low_threshold = 50\n",
    "    high_threshold = 150\n",
    "    edges = canny(blur_gray, low_threshold, high_threshold)\n",
    "    #plt.imshow(edges,cmap='Greys_r')\n",
    "\n",
    "    #define a 4 sided polygon to mask\n",
    "    imshape = edges.shape  \n",
    "    vertices = np.array([[(0,imshape[0]),(450, 330), (550, 330), (imshape[1],imshape[0])]], dtype=np.int32)\n",
    "    masked_edges = region_of_interest(edges, vertices)\n",
    "    #plt.imshow(masked_edges)\n",
    "\n",
    "    #define hough transform parameters\n",
    "    rho = 1 # distance resolution in pixels \n",
    "    theta = np.pi/180 # angular resolution in radians\n",
    "    threshold = 10     # minimum number of votes \n",
    "    min_line_length = 2 #minimum number of pixels making the line\n",
    "    max_line_gap = 2    # maximum gap in pixels between connectable line segments\n",
    "    line_image = np.copy(image)*0 \n",
    "    lines = hough_lines(masked_edges, rho, theta, threshold, min_line_length, max_line_gap)\n",
    "   # plt.imshow(lines)\n",
    "\n",
    "    # Draw the lines on the actual image by adding two images i.e., Hough transform image and the original image\n",
    "    combined = weighted_img(lines, image) \n",
    "    #plt.imshow(combined)\n",
    "    return combined"
   ]
  },
  {
   "cell_type": "markdown",
   "metadata": {},
   "source": [
    "## Helper Functions"
   ]
  },
  {
   "cell_type": "code",
   "execution_count": 4,
   "metadata": {},
   "outputs": [],
   "source": [
    "import math\n",
    "\n",
    "def grayscale(img):\n",
    "    \"\"\"Applies the Grayscale transform\n",
    "    This will return an image with only one color channel\n",
    "    but NOTE: to see the returned image as grayscale\n",
    "    (assuming your grayscaled image is called 'gray')\n",
    "    you should call plt.imshow(gray, cmap='gray')\"\"\"\n",
    "    return cv2.cvtColor(img, cv2.COLOR_RGB2GRAY)\n",
    "    # Or use BGR2GRAY if you read an image with cv2.imread()\n",
    "    # return cv2.cvtColor(img, cv2.COLOR_BGR2GRAY)\n",
    "    \n",
    "def gaussian_blur(img, kernel_size):\n",
    "    \"\"\"Applies a Gaussian Noise kernel\"\"\"\n",
    "    return cv2.GaussianBlur(img, (kernel_size, kernel_size), 0)\n",
    "\n",
    "def canny(img, low_threshold, high_threshold):\n",
    "    \"\"\"Applies the Canny transform\"\"\"\n",
    "    return cv2.Canny(img, low_threshold, high_threshold)\n",
    "\n",
    "def region_of_interest(img, vertices):\n",
    "    \"\"\"\n",
    "    Applies an image mask.\n",
    "    \n",
    "    Only keeps the region of the image defined by the polygon\n",
    "    formed from `vertices`. The rest of the image is set to black.\n",
    "    \"\"\"\n",
    "    #defining a blank mask to start with\n",
    "    mask = np.zeros_like(img)   \n",
    "    \n",
    "    #defining a 3 channel or 1 channel color to fill the mask with depending on the input image\n",
    "    if len(img.shape) > 2:\n",
    "        channel_count = img.shape[2]  # i.e. 3 or 4 depending on your image\n",
    "        ignore_mask_color = (255,) * channel_count\n",
    "    else:\n",
    "        ignore_mask_color = 255\n",
    "        \n",
    "    #filling pixels inside the polygon defined by \"vertices\" with the fill color    \n",
    "    cv2.fillPoly(mask, vertices, ignore_mask_color)\n",
    "    \n",
    "    #returning the image only where mask pixels are nonzero\n",
    "    masked_image = cv2.bitwise_and(img, mask)\n",
    "    return masked_image\n",
    "\n",
    "def hough_lines(img, rho, theta, threshold, min_line_len, max_line_gap):\n",
    "    \"\"\"\n",
    "    `img` should be the output of a Canny transform.\n",
    "        \n",
    "    Returns an image with hough lines drawn.\n",
    "    \"\"\"\n",
    "    lines = cv2.HoughLinesP(img, rho, theta, threshold, np.array([]), minLineLength=min_line_len, maxLineGap=max_line_gap)\n",
    "    line_img = np.zeros((img.shape[0], img.shape[1], 3), dtype=np.uint8)\n",
    "    draw_lines(line_img, lines)\n",
    "    return line_img\n",
    "\n",
    "def draw_lines(img, lines, color=[255, 0, 0], thickness=15):\n",
    "    \"\"\"\n",
    "    NOTE: this is the function to average/extrapolate the line segments you detect to map out the full\n",
    "    extent of the lane (going from the result shown in raw-lines-example.mp4\n",
    "    to that shown in P1_example.mp4).  \n",
    "    \n",
    "    Think about things like separating line segments by their \n",
    "    slope ((y2-y1)/(x2-x1)) to decide which segments are part of the left\n",
    "    line vs. the right line.  Then, you can average the position of each of \n",
    "    the lines and extrapolate to the top and bottom of the lane.\n",
    "    \n",
    "    This function draws `lines` with `color` and `thickness`.    \n",
    "    Lines are drawn on the image inplace (mutates the image).\n",
    "    If you want to make the lines semi-transparent, think about combining\n",
    "    this function with the weighted_img() function below\n",
    "    \"\"\" \n",
    "    a_left = 0\n",
    "    b_left = 0\n",
    "    a_right = 0\n",
    "    b_right = 0\n",
    "    cumLengthLeft = 0\n",
    "    cumLengthRight = 0\n",
    "    \n",
    "    for line in lines:\n",
    "        for x1,y1,x2,y2 in line:\n",
    "            #calculate slope of a line\n",
    "            a = float((y2-y1)/(x2-x1))\n",
    "            #from y=ax+b, b (y intercept) = y-ax\n",
    "            b = (y1-a*x1) \n",
    "            #length of line\n",
    "            length = math.sqrt(pow(y2-y1,2)+pow(x2-x1,2))\n",
    "            if a!=0:\n",
    "                if (a > -1.5) and (a < -0.3) :\n",
    "                    cumLengthLeft += pow(length,2)\n",
    "                    a_left += a * pow(length,2)\n",
    "                    b_left += b * pow(length,2)\n",
    "                else:\n",
    "                    cumLengthRight += pow(length,2)\n",
    "                    a_right += a * pow(length,2)\n",
    "                    b_right += b * pow(length,2)\n",
    "                \n",
    "    if (cumLengthLeft != 0) :                     \n",
    "        a_left /= cumLengthLeft    \n",
    "        b_left /= cumLengthLeft    \n",
    "     \n",
    "    if (cumLengthRight != 0)  :\n",
    "        a_right /= cumLengthRight\n",
    "        b_right /= cumLengthRight \n",
    "        \n",
    "    #lineParams = [a_left, b_left, a_right, b_right]\n",
    "    \n",
    "    imgHeight = img.shape[0]\n",
    "    y_max = imgHeight\n",
    "    y_min = int(imgHeight*0.6)   \n",
    "    \n",
    "    x1_left = 0\n",
    "    x2_left = 0\n",
    "    x1_right = 0\n",
    "    x2_right = 0 \n",
    "    \n",
    "    if a_left!=0 and math.isinf(a_left) != True and math.isnan(a_left) != True:     \n",
    "        x1_left = int((y_max-b_left)/a_left)\n",
    "        x2_left = int((y_min-b_left)/a_left)\n",
    "        \n",
    "    if a_right!=0 and math.isinf(a_right) != True and math.isnan(a_right) != True: \n",
    "        x1_right = int((y_max-b_right)/a_right)\n",
    "        x2_right = int((y_min-b_right)/a_right)\n",
    "        \n",
    "    if a_left!=0:  \n",
    "        cv2.line(img, (x1_left, y_max), (x2_left, y_min), color, thickness)\n",
    "    \n",
    "    if a_left!=0: \n",
    "        cv2.line(img, (x1_right, y_max), (x2_right, y_min), color, thickness)\n",
    "\n",
    "# Python 3 has support for cool math symbols.\n",
    "def weighted_img(img, initial_img, α=1.0, β=0.8, γ=0.):\n",
    "    \"\"\"\n",
    "    `img` is the output of the hough_lines(), An image with lines drawn on it.\n",
    "    Should be a blank image (all black) with lines drawn on it.\n",
    "    \n",
    "    `initial_img` should be the image before any processing.\n",
    "    \n",
    "    The result image is computed as follows:\n",
    "    \n",
    "    initial_img * α + img * β + γ\n",
    "    NOTE: initial_img and img must be the same shape!\n",
    "    \"\"\"\n",
    "    return cv2.addWeighted(initial_img, α, img, β, γ)"
   ]
  },
  {
   "cell_type": "markdown",
   "metadata": {},
   "source": [
    "## Test Images\n",
    "\n",
    "Build your pipeline to work on the images in the directory \"test_images\"  \n",
    "**You should make sure your pipeline works well on these images before you try the videos.**"
   ]
  },
  {
   "cell_type": "code",
   "execution_count": 8,
   "metadata": {},
   "outputs": [],
   "source": [
    "import os\n",
    "lst = os.listdir(\"test_images/\")"
   ]
  },
  {
   "cell_type": "markdown",
   "metadata": {},
   "source": [
    "## Build a Lane Finding Pipeline\n",
    "\n"
   ]
  },
  {
   "cell_type": "markdown",
   "metadata": {},
   "source": [
    "Build the pipeline and run your solution on all test_images. \n",
    "\n",
    "Try tuning the various parameters, especially the low and high Canny thresholds as well as the Hough lines parameters."
   ]
  },
  {
   "cell_type": "code",
   "execution_count": 9,
   "metadata": {},
   "outputs": [],
   "source": [
    "# TODO: Build your pipeline that will draw lane lines on the test_images\n",
    "# then save them to the test_images_output directory.\n",
    "for i, img in enumerate(lst):\n",
    "    image =  mpimg.imread('test_images/' + img)\n",
    "    final_img = read_lane_lines(image)\n",
    "    cv2.imwrite(\"test_images_output/\"+ lst[i],cv2.cvtColor(final_img, cv2.COLOR_RGB2BGR))"
   ]
  },
  {
   "cell_type": "markdown",
   "metadata": {},
   "source": [
    "## Test on Videos\n",
    "\n",
    "You know what's cooler than drawing lanes over images? Drawing lanes over video!\n",
    "\n",
    "We can test our solution on two provided videos:\n",
    "\n",
    "`solidWhiteRight.mp4`\n",
    "\n",
    "`solidYellowLeft.mp4`\n",
    "\n",
    "**Note: if you get an import error when you run the next cell, try changing your kernel (select the Kernel menu above --> Change Kernel). Still have problems? Try relaunching Jupyter Notebook from the terminal prompt. Also, consult the forums for more troubleshooting tips.**\n",
    "\n"  
   ]
  },
  {
   "cell_type": "code",
   "execution_count": 10,
   "metadata": {},
   "outputs": [],
   "source": [
    "# Import everything needed to edit/save/watch video clips\n",
    "from moviepy.editor import VideoFileClip\n",
    "from IPython.display import HTML"
   ]
  },
  {
   "cell_type": "code",
   "execution_count": 12,
   "metadata": {},
   "outputs": [],
   "source": [
    "def process_image(image):\n",
    "    # NOTE: The output you return should be a color image (3 channel) for processing video below\n",
    "    # TODO: put your pipeline here,\n",
    "    # you should return the final output (image where lines are drawn on lanes)\n",
    "    result = read_lane_lines(image)\n",
    "    return result\n"
   ]
  },
  {
   "cell_type": "markdown",
   "metadata": {},
   "source": [
    "Let's try the one with the solid white lane on the right first ..."
   ]
  },
  {
   "cell_type": "code",
   "execution_count": 13,
   "metadata": {},
   "outputs": [],
   "source": [
    "white_output = 'test_videos_output/solidWhiteRight.mp4'\n",
    "## To speed up the testing process you may want to try your pipeline on a shorter subclip of the video\n",
    "## To do so add .subclip(start_second,end_second) to the end of the line below\n",
    "## Where start_second and end_second are integer values representing the start and end of the subclip\n",
    "## You may also uncomment the following line for a subclip of the first 5 seconds\n",
    "#clip1 = VideoFileClip(\"test_videos/solidWhiteRight.mp4\").subclip(0,5)\n",
    "clip1 = VideoFileClip(\"test_videos/solidWhiteRight.mp4\")\n",
    "white_clip = clip1.fl_image(process_image) #NOTE: this function expects color images!!\n",
    "%time white_clip.write_videofile(white_output, audio=False)"
   ]
  },
  {
   "cell_type": "markdown",
   "metadata": {},
   "source": [
    "Play the video inline, or if you prefer find the video in your filesystem (should be in the same directory) and play it in your video player of choice."
   ]
  },
  {
   "cell_type": "code",
   "execution_count": 14,
   "metadata": {},
   "outputs": [
    {
     "data": {
      "text/html": [
       "\n",
       "<video width=\"960\" height=\"540\" controls>\n",
       "  <source src=\"test_videos_output/solidWhiteRight.mp4\">\n",
       "</video>\n"
      ],
      "text/plain": [
       "<IPython.core.display.HTML object>"
      ]
     },
     "execution_count": 14,
     "metadata": {},
     "output_type": "execute_result"
    }
   ],
 "metadata": {
  "anaconda-cloud": {},
  "kernelspec": {
   "display_name": "Python 3",
   "language": "python",
   "name": "python3"
  },
  "language_info": {
   "codemirror_mode": {
    "name": "ipython",
    "version": 3
   },
   "file_extension": ".py",
   "mimetype": "text/x-python",
   "name": "python",
   "nbconvert_exporter": "python",
   "pygments_lexer": "ipython3",
   "version": "3.5.2"
  },
  "widgets": {
   "state": {},
   "version": "1.1.2"
  }
 },
 "nbformat": 4,
 "nbformat_minor": 1
}
